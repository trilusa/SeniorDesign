{
  "nbformat": 4,
  "nbformat_minor": 0,
  "metadata": {
    "colab": {
      "provenance": [],
      "machine_shape": "hm",
      "gpuType": "L4",
      "authorship_tag": "ABX9TyPCFDVtWZIIIM53FRXon6DN",
      "include_colab_link": true
    },
    "kernelspec": {
      "name": "python3",
      "display_name": "Python 3"
    },
    "language_info": {
      "name": "python"
    },
    "accelerator": "GPU"
  },
  "cells": [
    {
      "cell_type": "markdown",
      "metadata": {
        "id": "view-in-github",
        "colab_type": "text"
      },
      "source": [
        "<a href=\"https://colab.research.google.com/github/trilusa/SeniorDesign/blob/main/Algorithms/CNN/HRTF_Localizaiton_model4.ipynb\" target=\"_parent\"><img src=\"https://colab.research.google.com/assets/colab-badge.svg\" alt=\"Open In Colab\"/></a>"
      ]
    },
    {
      "cell_type": "code",
      "execution_count": 1,
      "metadata": {
        "id": "5zT_jlFObvxm",
        "colab": {
          "base_uri": "https://localhost:8080/"
        },
        "outputId": "b90a90ac-65db-420d-8577-2581b1113999"
      },
      "outputs": [
        {
          "output_type": "stream",
          "name": "stdout",
          "text": [
            "Drive already mounted at /content/drive; to attempt to forcibly remount, call drive.mount(\"/content/drive\", force_remount=True).\n",
            "Requirement already satisfied: datasets[audio] in /usr/local/lib/python3.10/dist-packages (2.19.0)\n",
            "Requirement already satisfied: yt-dlp in /usr/local/lib/python3.10/dist-packages (2024.4.9)\n",
            "Requirement already satisfied: filelock in /usr/local/lib/python3.10/dist-packages (from datasets[audio]) (3.13.4)\n",
            "Requirement already satisfied: numpy>=1.17 in /usr/local/lib/python3.10/dist-packages (from datasets[audio]) (1.25.2)\n",
            "Requirement already satisfied: pyarrow>=12.0.0 in /usr/local/lib/python3.10/dist-packages (from datasets[audio]) (14.0.2)\n",
            "Requirement already satisfied: pyarrow-hotfix in /usr/local/lib/python3.10/dist-packages (from datasets[audio]) (0.6)\n",
            "Requirement already satisfied: dill<0.3.9,>=0.3.0 in /usr/local/lib/python3.10/dist-packages (from datasets[audio]) (0.3.8)\n",
            "Requirement already satisfied: pandas in /usr/local/lib/python3.10/dist-packages (from datasets[audio]) (2.0.3)\n",
            "Requirement already satisfied: requests>=2.19.0 in /usr/local/lib/python3.10/dist-packages (from datasets[audio]) (2.31.0)\n",
            "Requirement already satisfied: tqdm>=4.62.1 in /usr/local/lib/python3.10/dist-packages (from datasets[audio]) (4.66.2)\n",
            "Requirement already satisfied: xxhash in /usr/local/lib/python3.10/dist-packages (from datasets[audio]) (3.4.1)\n",
            "Requirement already satisfied: multiprocess in /usr/local/lib/python3.10/dist-packages (from datasets[audio]) (0.70.16)\n",
            "Requirement already satisfied: fsspec[http]<=2024.3.1,>=2023.1.0 in /usr/local/lib/python3.10/dist-packages (from datasets[audio]) (2023.6.0)\n",
            "Requirement already satisfied: aiohttp in /usr/local/lib/python3.10/dist-packages (from datasets[audio]) (3.9.5)\n",
            "Requirement already satisfied: huggingface-hub>=0.21.2 in /usr/local/lib/python3.10/dist-packages (from datasets[audio]) (0.22.2)\n",
            "Requirement already satisfied: packaging in /usr/local/lib/python3.10/dist-packages (from datasets[audio]) (24.0)\n",
            "Requirement already satisfied: pyyaml>=5.1 in /usr/local/lib/python3.10/dist-packages (from datasets[audio]) (6.0.1)\n",
            "Requirement already satisfied: soundfile>=0.12.1 in /usr/local/lib/python3.10/dist-packages (from datasets[audio]) (0.12.1)\n",
            "Requirement already satisfied: librosa in /usr/local/lib/python3.10/dist-packages (from datasets[audio]) (0.10.1)\n",
            "Requirement already satisfied: brotli in /usr/local/lib/python3.10/dist-packages (from yt-dlp) (1.1.0)\n",
            "Requirement already satisfied: certifi in /usr/local/lib/python3.10/dist-packages (from yt-dlp) (2024.2.2)\n",
            "Requirement already satisfied: mutagen in /usr/local/lib/python3.10/dist-packages (from yt-dlp) (1.47.0)\n",
            "Requirement already satisfied: pycryptodomex in /usr/local/lib/python3.10/dist-packages (from yt-dlp) (3.20.0)\n",
            "Requirement already satisfied: urllib3<3,>=1.26.17 in /usr/local/lib/python3.10/dist-packages (from yt-dlp) (2.0.7)\n",
            "Requirement already satisfied: websockets>=12.0 in /usr/local/lib/python3.10/dist-packages (from yt-dlp) (12.0)\n",
            "Requirement already satisfied: aiosignal>=1.1.2 in /usr/local/lib/python3.10/dist-packages (from aiohttp->datasets[audio]) (1.3.1)\n",
            "Requirement already satisfied: attrs>=17.3.0 in /usr/local/lib/python3.10/dist-packages (from aiohttp->datasets[audio]) (23.2.0)\n",
            "Requirement already satisfied: frozenlist>=1.1.1 in /usr/local/lib/python3.10/dist-packages (from aiohttp->datasets[audio]) (1.4.1)\n",
            "Requirement already satisfied: multidict<7.0,>=4.5 in /usr/local/lib/python3.10/dist-packages (from aiohttp->datasets[audio]) (6.0.5)\n",
            "Requirement already satisfied: yarl<2.0,>=1.0 in /usr/local/lib/python3.10/dist-packages (from aiohttp->datasets[audio]) (1.9.4)\n",
            "Requirement already satisfied: async-timeout<5.0,>=4.0 in /usr/local/lib/python3.10/dist-packages (from aiohttp->datasets[audio]) (4.0.3)\n",
            "Requirement already satisfied: typing-extensions>=3.7.4.3 in /usr/local/lib/python3.10/dist-packages (from huggingface-hub>=0.21.2->datasets[audio]) (4.11.0)\n",
            "Requirement already satisfied: charset-normalizer<4,>=2 in /usr/local/lib/python3.10/dist-packages (from requests>=2.19.0->datasets[audio]) (3.3.2)\n",
            "Requirement already satisfied: idna<4,>=2.5 in /usr/local/lib/python3.10/dist-packages (from requests>=2.19.0->datasets[audio]) (3.7)\n",
            "Requirement already satisfied: cffi>=1.0 in /usr/local/lib/python3.10/dist-packages (from soundfile>=0.12.1->datasets[audio]) (1.16.0)\n",
            "Requirement already satisfied: audioread>=2.1.9 in /usr/local/lib/python3.10/dist-packages (from librosa->datasets[audio]) (3.0.1)\n",
            "Requirement already satisfied: scipy>=1.2.0 in /usr/local/lib/python3.10/dist-packages (from librosa->datasets[audio]) (1.11.4)\n",
            "Requirement already satisfied: scikit-learn>=0.20.0 in /usr/local/lib/python3.10/dist-packages (from librosa->datasets[audio]) (1.2.2)\n",
            "Requirement already satisfied: joblib>=0.14 in /usr/local/lib/python3.10/dist-packages (from librosa->datasets[audio]) (1.4.0)\n",
            "Requirement already satisfied: decorator>=4.3.0 in /usr/local/lib/python3.10/dist-packages (from librosa->datasets[audio]) (4.4.2)\n",
            "Requirement already satisfied: numba>=0.51.0 in /usr/local/lib/python3.10/dist-packages (from librosa->datasets[audio]) (0.58.1)\n",
            "Requirement already satisfied: pooch>=1.0 in /usr/local/lib/python3.10/dist-packages (from librosa->datasets[audio]) (1.8.1)\n",
            "Requirement already satisfied: soxr>=0.3.2 in /usr/local/lib/python3.10/dist-packages (from librosa->datasets[audio]) (0.3.7)\n",
            "Requirement already satisfied: lazy-loader>=0.1 in /usr/local/lib/python3.10/dist-packages (from librosa->datasets[audio]) (0.4)\n",
            "Requirement already satisfied: msgpack>=1.0 in /usr/local/lib/python3.10/dist-packages (from librosa->datasets[audio]) (1.0.8)\n",
            "Requirement already satisfied: python-dateutil>=2.8.2 in /usr/local/lib/python3.10/dist-packages (from pandas->datasets[audio]) (2.8.2)\n",
            "Requirement already satisfied: pytz>=2020.1 in /usr/local/lib/python3.10/dist-packages (from pandas->datasets[audio]) (2023.4)\n",
            "Requirement already satisfied: tzdata>=2022.1 in /usr/local/lib/python3.10/dist-packages (from pandas->datasets[audio]) (2024.1)\n",
            "Requirement already satisfied: pycparser in /usr/local/lib/python3.10/dist-packages (from cffi>=1.0->soundfile>=0.12.1->datasets[audio]) (2.22)\n",
            "Requirement already satisfied: llvmlite<0.42,>=0.41.0dev0 in /usr/local/lib/python3.10/dist-packages (from numba>=0.51.0->librosa->datasets[audio]) (0.41.1)\n",
            "Requirement already satisfied: platformdirs>=2.5.0 in /usr/local/lib/python3.10/dist-packages (from pooch>=1.0->librosa->datasets[audio]) (4.2.0)\n",
            "Requirement already satisfied: six>=1.5 in /usr/local/lib/python3.10/dist-packages (from python-dateutil>=2.8.2->pandas->datasets[audio]) (1.16.0)\n",
            "Requirement already satisfied: threadpoolctl>=2.0.0 in /usr/local/lib/python3.10/dist-packages (from scikit-learn>=0.20.0->librosa->datasets[audio]) (3.4.0)\n",
            "2.15.0\n"
          ]
        }
      ],
      "source": [
        "from google.colab import drive\n",
        "drive.mount('/content/drive')\n",
        "\n",
        "! pip install datasets[audio] yt-dlp\n",
        "\n",
        "import numpy as np\n",
        "import pandas as pd\n",
        "import os\n",
        "import matplotlib.pyplot as plt\n",
        "from scipy.signal import spectrogram, resample\n",
        "import time\n",
        "\n",
        "import tensorflow as tf\n",
        "print(tf.__version__)\n",
        "\n",
        "from IPython.display import Audio\n",
        "\n",
        "from google.colab import data_table\n",
        "data_table.enable_dataframe_formatter()"
      ]
    },
    {
      "cell_type": "markdown",
      "source": [
        "# Synthesize Data For Training\n",
        "Load in a bunch of wave files, use tf utilities to clip into 1 second intervals. At 32 kS/s there should be 32000 samples.\n"
      ],
      "metadata": {
        "id": "oWQ8raznHABh"
      }
    },
    {
      "cell_type": "code",
      "source": [
        "target_rate = 32000\n",
        "window_L=1024\n",
        "num_clips= 32"
      ],
      "metadata": {
        "id": "OIF6Hh2y6oB_"
      },
      "execution_count": 2,
      "outputs": []
    },
    {
      "cell_type": "code",
      "source": [
        "#download music clips\n",
        "# https://huggingface.co/datasets/google/MusicCaps\n",
        "# https://colab.research.google.com/github/nateraw/download-musiccaps-dataset/blob/main/download_musiccaps.ipynb\n",
        "import subprocess\n",
        "import os\n",
        "from pathlib import Path\n",
        "\n",
        "from datasets import load_dataset, Audio\n",
        "\n",
        "\n",
        "def download_clip(\n",
        "    video_identifier,\n",
        "    output_filename,\n",
        "    start_time,\n",
        "    end_time,\n",
        "    tmp_dir='/tmp/musiccaps',\n",
        "    num_attempts=5,\n",
        "    url_base='https://www.youtube.com/watch?v='\n",
        "):\n",
        "    status = False\n",
        "\n",
        "    command = f\"\"\"\n",
        "        yt-dlp --quiet --no-warnings -x --audio-format wav -f bestaudio -o \"{output_filename}\" --download-sections \"*{start_time}-{end_time}\" {url_base}{video_identifier}\n",
        "    \"\"\".strip()\n",
        "\n",
        "    attempts = 0\n",
        "    while True:\n",
        "        try:\n",
        "            output = subprocess.check_output(command, shell=True,\n",
        "                                                stderr=subprocess.STDOUT)\n",
        "        except subprocess.CalledProcessError as err:\n",
        "            attempts += 1\n",
        "            if attempts == num_attempts:\n",
        "                return status, err.output\n",
        "        else:\n",
        "            break\n",
        "\n",
        "    # Check if the video was successfully saved.\n",
        "    status = os.path.exists(output_filename)\n",
        "    return status, 'Downloaded'\n",
        "\n",
        "\n",
        "def main(\n",
        "    data_dir: str,\n",
        "    sampling_rate: int = target_rate,\n",
        "    limit: int = None,\n",
        "    num_proc: int = 1,\n",
        "    writer_batch_size: int = 100,\n",
        "):\n",
        "    \"\"\"\n",
        "    Download the clips within the MusicCaps dataset from YouTube.\n",
        "    Args:\n",
        "        data_dir: Directory to save the clips to.\n",
        "        sampling_rate: Sampling rate of the audio clips.\n",
        "        limit: Limit the number of examples to download.\n",
        "        num_proc: Number of processes to use for downloading.\n",
        "        writer_batch_size: Batch size for writing the dataset. This is per process.\n",
        "    \"\"\"\n",
        "\n",
        "    ds = load_dataset('google/MusicCaps', split='train')\n",
        "    if limit is not None:\n",
        "        print(f\"Limiting to {limit} examples\")\n",
        "        ds = ds.select(range(limit))\n",
        "\n",
        "    data_dir = Path(data_dir)\n",
        "    data_dir.mkdir(exist_ok=True, parents=True)\n",
        "\n",
        "    def process(example):\n",
        "        outfile_path = str(data_dir / f\"{example['ytid']}.wav\")\n",
        "        status = True\n",
        "        if not os.path.exists(outfile_path):\n",
        "            status = False\n",
        "            status, log = download_clip(\n",
        "                example['ytid'],\n",
        "                outfile_path,\n",
        "                example['start_s'],\n",
        "                example['end_s'],\n",
        "            )\n",
        "\n",
        "        example['audio'] = outfile_path\n",
        "        example['download_status'] = status\n",
        "        return example\n",
        "\n",
        "    return ds.map(\n",
        "        process,\n",
        "        num_proc=num_proc,\n",
        "        writer_batch_size=writer_batch_size,\n",
        "        keep_in_memory=False\n",
        "    ).cast_column('audio', Audio(sampling_rate=sampling_rate))\n",
        "\n",
        "ds = main('./music_data', num_proc=8, limit=num_clips)"
      ],
      "metadata": {
        "id": "1VWvRzazfEju",
        "colab": {
          "base_uri": "https://localhost:8080/"
        },
        "outputId": "9baa3b30-efe2-4316-bf35-75b9c0527da0"
      },
      "execution_count": 3,
      "outputs": [
        {
          "output_type": "stream",
          "name": "stderr",
          "text": [
            "/usr/local/lib/python3.10/dist-packages/huggingface_hub/utils/_token.py:89: UserWarning: \n",
            "The secret `HF_TOKEN` does not exist in your Colab secrets.\n",
            "To authenticate with the Hugging Face Hub, create a token in your settings tab (https://huggingface.co/settings/tokens), set it as secret in your Google Colab and restart your session.\n",
            "You will be able to reuse this secret in all of your notebooks.\n",
            "Please note that authentication is recommended but still optional to access public models or datasets.\n",
            "  warnings.warn(\n"
          ]
        },
        {
          "output_type": "stream",
          "name": "stdout",
          "text": [
            "Limiting to 32 examples\n"
          ]
        }
      ]
    },
    {
      "cell_type": "code",
      "source": [
        "print(type(ds))"
      ],
      "metadata": {
        "colab": {
          "base_uri": "https://localhost:8080/"
        },
        "id": "l8HvzviTx3Oz",
        "outputId": "6fbba665-d42a-47c8-960e-f9dc704d14b5"
      },
      "execution_count": 4,
      "outputs": [
        {
          "output_type": "stream",
          "name": "stdout",
          "text": [
            "<class 'datasets.arrow_dataset.Dataset'>\n"
          ]
        }
      ]
    },
    {
      "cell_type": "code",
      "source": [
        "# ds.save_to_disk(\"/content/drive/My Drive/Senior Design/music/\")\n",
        "# pa.read_dataset(\"/content/drive/My Drive/Senior Design/music/music_dataset.parquet\")"
      ],
      "metadata": {
        "id": "nEMdgwybxfNi"
      },
      "execution_count": 5,
      "outputs": []
    },
    {
      "cell_type": "code",
      "source": [
        "# print(ds[0]['audio']['array'])\n",
        "audio = []\n",
        "sample_rate = ds[0]['audio']['sampling_rate']\n",
        "err_cnt = 0\n",
        "problem_files = []\n",
        "for i in range(len(ds)):\n",
        "    try:\n",
        "        audio.append(ds[i]['audio']['array'])\n",
        "    except FileNotFoundError:\n",
        "        err_cnt += 1\n",
        "        problem_files.append(i)\n",
        "        print(f\"File at idx {i} not found\")\n",
        "    # print(f\"\\r{i}\", end=\"\")\n",
        "print(len(audio))"
      ],
      "metadata": {
        "colab": {
          "base_uri": "https://localhost:8080/"
        },
        "id": "oRk-LgSbxgAl",
        "outputId": "dc26f46a-2a0e-4685-cda9-efb4d45782d9"
      },
      "execution_count": 6,
      "outputs": [
        {
          "output_type": "stream",
          "name": "stdout",
          "text": [
            "32\n"
          ]
        }
      ]
    },
    {
      "cell_type": "code",
      "source": [
        "def compute_spectrogram(data, fs, window_L=1024):\n",
        "    frequencies, times, Sxx = spectrogram(data, fs=fs, window='hamming',\n",
        "                                          nperseg=window_L, noverlap=window_L//2, nfft=window_L, scaling='density')\n",
        "    return frequencies, times, Sxx[:,:1+window_L//2]\n",
        "\n",
        "def resample_audio(audio_data, orig_fs, target_fs):\n",
        "    if orig_fs != target_fs:\n",
        "        # Calculate the number of samples after resampling\n",
        "        num_samples = round(len(audio_data) * float(target_fs) / orig_fs)\n",
        "        audio_data = resample(audio_data, num_samples)\n",
        "    return audio_data\n",
        "\n",
        "def compute_LRspectra(L, R, fs, target_fs=32000,window_L=1024):\n",
        "    L = resample_audio(L/(2**15), fs, target_fs)\n",
        "    R = resample_audio(R/(2**15), fs, target_fs)\n",
        "    _, _, Sxx_L = compute_spectrogram(L, target_fs,window_L)\n",
        "    _, _, Sxx_R = compute_spectrogram(R, target_fs,window_L)\n",
        "    Sxx_L = 10*np.log10(np.mean(Sxx_L, axis=1))  # calc spectrum by average over time slices\n",
        "    Sxx_R = 10*np.log10(np.mean(Sxx_R, axis=1))\n",
        "    maxLR = np.max([np.max(Sxx_L), np.max(Sxx_R)])  # normalize so max of L and R together maps to 0db, preserves relative amplitude\n",
        "    Sxx_L -= maxLR\n",
        "    Sxx_R -= maxLR\n",
        "    return Sxx_L, Sxx_R\n",
        "\n",
        "def plot_spectrogram(spect):\n",
        "    plt.imshow(spect,aspect=1)\n",
        "    plt.colorbar()\n",
        "    plt.show()"
      ],
      "metadata": {
        "id": "B1mYFuG83dZj"
      },
      "execution_count": 7,
      "outputs": []
    },
    {
      "cell_type": "code",
      "source": [
        "## Run once\n",
        "# file_name = \"/content/drive/My Drive/Senior Design/hrtf/raw_whitenoise/raw_whitenoise2_all.pkl\"\n",
        "# df_hrtf=pd.read_pickle(file_name)\n",
        "# df_hrtf['HRTF_L'], df_hrtf['HRTF_R'] = zip(*df_hrtf.apply(lambda row: compute_LRspectra(row['L'], row['R'], fs=row['sample_rate'], window_L=window_L), axis=1))\n",
        "# df_hrtf['sample_rate'] = target_rate\n",
        "# df_hrtf.drop(['L','R'], axis=1, inplace=True)\n",
        "# df_hrtf['az'] = df_hrtf['az'].apply(lambda x: x-100) #rotate coordinate so centered\n",
        "# df_hrtf['el'] = df_hrtf['el'].apply(lambda x: x-100)\n",
        "# df_hrtf.to_pickle(\"/content/drive/My Drive/Senior Design/hrtf/HRTF_df.pkl\")"
      ],
      "metadata": {
        "id": "6FMH-6ldSYAA"
      },
      "execution_count": 8,
      "outputs": []
    },
    {
      "cell_type": "code",
      "source": [
        "df_hrtf=pd.read_pickle(\"/content/drive/My Drive/Senior Design/hrtf/HRTF_df.pkl\")\n",
        "df_hrtf['HRTF_L'] = df_hrtf['HRTF_L'].apply(lambda x: x.astype(np.float32))\n",
        "df_hrtf['HRTF_R'] = df_hrtf['HRTF_R'].apply(lambda x: x.astype(np.float32))\n",
        "df_hrtf['az'] = df_hrtf['az'].apply(lambda x: np.float16(x))\n",
        "df_hrtf['el'] = df_hrtf['el'].apply(lambda x: np.float16(x))\n",
        "# df_hrtf.head()"
      ],
      "metadata": {
        "id": "0pmapiDd3e2V"
      },
      "execution_count": 9,
      "outputs": []
    },
    {
      "cell_type": "code",
      "source": [
        "target_rate = 32000\n",
        "window_L=1024\n",
        "raw_training_spectrograms = []\n",
        "num_spec_per_example = 3\n",
        "sample_per_slice = 1 * sample_rate\n",
        "front_cuttoff_idx = 1*sample_per_slice\n",
        "\n",
        "for a in audio:\n",
        "    total_seconds = a.shape[0] // sample_rate  # total available full seconds\n",
        "\n",
        "    for i in range(num_spec_per_example):\n",
        "        idx = i * sample_per_slice\n",
        "        seg = a[front_cuttoff_idx+idx : idx+sample_per_slice+front_cuttoff_idx]\n",
        "        # seg /= (2**15) #normalize\n",
        "\n",
        "        stft = tf.signal.stft(seg, frame_length=window_L, frame_step=window_L//2, fft_length=window_L)\n",
        "        spec = 10*tf.math.log(tf.abs(stft),10)\n",
        "        # power_spectrogram = tf.math.pow(spectrogram, 2)\n",
        "        raw_training_spectrograms.append(tf.cast(spec,dtype=tf.float32))\n",
        "\n",
        "    # training_examples.append(spectrograms)\n",
        "print(len(raw_training_spectrograms))\n",
        "print(raw_training_spectrograms[0].shape)\n",
        "# plot_spectrogram(raw_training_spectrograms[0])\n",
        "# raw_training_spectrograms_ds = tf.data.Dataset.from_tensor_slices(raw_training_spectrograms)\n",
        "# tf.data.experimental.save(raw_training_spectrograms_ds, '/content/drive/My Drive/Senior Design/synth_data/')\n",
        "# tensor_spec = raw_training_spectrograms_ds.element_spec\n",
        "# print(tensor_spec)\n",
        "del(audio)"
      ],
      "metadata": {
        "id": "rDFqH3ynY6Zk",
        "colab": {
          "base_uri": "https://localhost:8080/"
        },
        "outputId": "316d6aed-2983-4411-eecd-e175b1349b4e"
      },
      "execution_count": 10,
      "outputs": [
        {
          "output_type": "stream",
          "name": "stdout",
          "text": [
            "96\n",
            "(61, 513)\n"
          ]
        }
      ]
    },
    {
      "cell_type": "code",
      "source": [
        "num_spectrograms = len(raw_training_spectrograms)\n",
        "num_hrtfs = len(df_hrtf['HRTF_L'].values)\n",
        "total_examples = num_spectrograms * num_hrtfs\n",
        "print(f\"{total_examples/1e6} Million Examples Prepared\")"
      ],
      "metadata": {
        "id": "xD_nXuvo2nLc",
        "colab": {
          "base_uri": "https://localhost:8080/"
        },
        "outputId": "395ef6db-79b2-440c-d17a-a62668104267"
      },
      "execution_count": 11,
      "outputs": [
        {
          "output_type": "stream",
          "name": "stdout",
          "text": [
            "0.450432 Million Examples Prepared\n"
          ]
        }
      ]
    },
    {
      "cell_type": "code",
      "source": [
        "#finally works!!!\n",
        "HRTF_L_dataset = tf.data.Dataset.from_tensor_slices(df_hrtf['HRTF_L'].values.tolist())\n",
        "HRTF_R_dataset = tf.data.Dataset.from_tensor_slices(df_hrtf['HRTF_R'].values.tolist())\n",
        "az_dataset = tf.data.Dataset.from_tensor_slices(df_hrtf['az'].values.tolist())\n",
        "el_dataset = tf.data.Dataset.from_tensor_slices(df_hrtf['el'].values.tolist())\n",
        "\n",
        "HRTF_dataset = tf.data.Dataset.zip( (HRTF_L_dataset, HRTF_R_dataset, az_dataset, el_dataset))\n",
        "spectrogram_dataset = tf.data.Dataset.from_tensor_slices(raw_training_spectrograms)\n",
        "\n",
        "def cartesian_product(HRTF_L, HRTF_R, az, el):\n",
        "    return spectrogram_dataset.map(lambda s: (HRTF_L, HRTF_R, az, el, s))\n",
        "\n",
        "def process_elements(HRTF_L, HRTF_R, az, el, spec ):\n",
        "    # HRTF_L, HRTF_R, az, el, spec = all_examples_ds_tuple\n",
        "    HRTF_stacked = tf.stack([HRTF_L, HRTF_R], axis=1)  # Shape: (513, 2)\n",
        "    spectrogram_stacked = tf.stack([spec, spec], axis=2)  # Duplicate spectrogram across a new dimension\n",
        "    input_tensor = spectrogram_stacked + HRTF_stacked\n",
        "    target_tensor = [az, el]\n",
        "    return input_tensor, target_tensor\n",
        "\n",
        "all_examples_ds = HRTF_dataset.flat_map(cartesian_product)\n",
        "all_examples_ds = all_examples_ds.map(process_elements)\n",
        "\n",
        "# all_examples_ds.to_pickle('/content/drive/My Drive/Senior Design/synth_data/all_examples_ds.pkl')\n"
      ],
      "metadata": {
        "id": "eby2L2aoam3n"
      },
      "execution_count": 12,
      "outputs": []
    },
    {
      "cell_type": "code",
      "source": [
        "epochs=50\n",
        "dropout=.5\n",
        "learning_rate = 0.01\n",
        "num_training_examples = int(150000)\n",
        "all_examples_ds = all_examples_ds.shuffle(buffer_size=50000)\n",
        "all_examples_ds_subsample =  all_examples_ds.take(num_training_examples)\n",
        "batch_size = 256\n",
        "train_size = int(num_training_examples * .8)\n",
        "print(train_size)\n",
        "\n",
        "train_dataset = all_examples_ds_subsample.take(train_size)\n",
        "validation_dataset = all_examples_ds_subsample.skip(train_size)\n",
        "\n",
        "train_dataset = train_dataset.batch(batch_size).prefetch(tf.data.AUTOTUNE)\n",
        "validation_dataset = validation_dataset.batch(batch_size).prefetch(tf.data.AUTOTUNE)\n"
      ],
      "metadata": {
        "id": "rSk2q4Pltrkd",
        "colab": {
          "base_uri": "https://localhost:8080/"
        },
        "outputId": "81164193-0919-402d-af06-1e85885a271b"
      },
      "execution_count": 13,
      "outputs": [
        {
          "output_type": "stream",
          "name": "stdout",
          "text": [
            "120000\n"
          ]
        }
      ]
    },
    {
      "cell_type": "markdown",
      "source": [
        "#Model Training\n",
        "\n"
      ],
      "metadata": {
        "id": "OHkwXB_-Ox5j"
      }
    },
    {
      "cell_type": "markdown",
      "source": [
        "\n",
        "![image.png](data:image/png;base64,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)"
      ],
      "metadata": {
        "id": "Whj7AULZUvET"
      }
    },
    {
      "cell_type": "code",
      "source": [
        "from tensorflow.keras.models import Sequential\n",
        "from tensorflow.keras.layers import Conv2D, MaxPooling2D, BatchNormalization, Activation, Flatten, Dense, Dropout\n",
        "\n",
        "\n",
        "model = Sequential([\n",
        "    # assume  input shape  (61, 513, 2)\n",
        "    Conv2D(filters=32, kernel_size=(2, 4), padding='same', activation='relu', input_shape=(61, 513, 2)),\n",
        "    MaxPooling2D(pool_size=(2, 2)),\n",
        "    BatchNormalization(),\n",
        "    Conv2D(filters=32, kernel_size=(2, 4), padding='same', activation='relu'),\n",
        "    BatchNormalization(),\n",
        "    MaxPooling2D(pool_size=(1, 4)),\n",
        "\n",
        "    Conv2D(filters=64, kernel_size=(3, 16), padding='same', activation='relu'),\n",
        "    BatchNormalization(),\n",
        "    MaxPooling2D(pool_size=(1, 2)),\n",
        "\n",
        "    Conv2D(filters=128, kernel_size=(1, 2), padding='same', activation='relu'),\n",
        "    BatchNormalization(),\n",
        "    MaxPooling2D(pool_size=(1, 2)),\n",
        "\n",
        "    Flatten(),\n",
        "    Dense(units=512, activation='relu'),\n",
        "    BatchNormalization(),\n",
        "    Dropout(rate=dropout),\n",
        "\n",
        "    Dense(units=2, activation='linear')\n",
        "])\n",
        "optimizer = tf.keras.optimizers.Adam(learning_rate)\n",
        "\n",
        "model.compile(optimizer=optimizer, loss='MSE', metrics=['mae'])\n",
        "model.summary()\n"
      ],
      "metadata": {
        "id": "IwtCCIcVOLEN",
        "colab": {
          "base_uri": "https://localhost:8080/"
        },
        "outputId": "2fafc9c8-45eb-4f8a-813e-7b0f7e236ebb"
      },
      "execution_count": 14,
      "outputs": [
        {
          "output_type": "stream",
          "name": "stdout",
          "text": [
            "Model: \"sequential\"\n",
            "_________________________________________________________________\n",
            " Layer (type)                Output Shape              Param #   \n",
            "=================================================================\n",
            " conv2d (Conv2D)             (None, 61, 513, 32)       544       \n",
            "                                                                 \n",
            " max_pooling2d (MaxPooling2  (None, 30, 256, 32)       0         \n",
            " D)                                                              \n",
            "                                                                 \n",
            " batch_normalization (Batch  (None, 30, 256, 32)       128       \n",
            " Normalization)                                                  \n",
            "                                                                 \n",
            " conv2d_1 (Conv2D)           (None, 30, 256, 32)       8224      \n",
            "                                                                 \n",
            " batch_normalization_1 (Bat  (None, 30, 256, 32)       128       \n",
            " chNormalization)                                                \n",
            "                                                                 \n",
            " max_pooling2d_1 (MaxPoolin  (None, 30, 64, 32)        0         \n",
            " g2D)                                                            \n",
            "                                                                 \n",
            " conv2d_2 (Conv2D)           (None, 30, 64, 64)        98368     \n",
            "                                                                 \n",
            " batch_normalization_2 (Bat  (None, 30, 64, 64)        256       \n",
            " chNormalization)                                                \n",
            "                                                                 \n",
            " max_pooling2d_2 (MaxPoolin  (None, 30, 32, 64)        0         \n",
            " g2D)                                                            \n",
            "                                                                 \n",
            " conv2d_3 (Conv2D)           (None, 30, 32, 128)       16512     \n",
            "                                                                 \n",
            " batch_normalization_3 (Bat  (None, 30, 32, 128)       512       \n",
            " chNormalization)                                                \n",
            "                                                                 \n",
            " max_pooling2d_3 (MaxPoolin  (None, 30, 16, 128)       0         \n",
            " g2D)                                                            \n",
            "                                                                 \n",
            " flatten (Flatten)           (None, 61440)             0         \n",
            "                                                                 \n",
            " dense (Dense)               (None, 512)               31457792  \n",
            "                                                                 \n",
            " batch_normalization_4 (Bat  (None, 512)               2048      \n",
            " chNormalization)                                                \n",
            "                                                                 \n",
            " dropout (Dropout)           (None, 512)               0         \n",
            "                                                                 \n",
            " dense_1 (Dense)             (None, 2)                 1026      \n",
            "                                                                 \n",
            "=================================================================\n",
            "Total params: 31585538 (120.49 MB)\n",
            "Trainable params: 31584002 (120.48 MB)\n",
            "Non-trainable params: 1536 (6.00 KB)\n",
            "_________________________________________________________________\n"
          ]
        }
      ]
    },
    {
      "cell_type": "code",
      "source": [
        "# import gc\n",
        "# tf.keras.backend.clear_session()\n",
        "# class GC_Callback(tf.keras.callbacks.Callback):\n",
        "#   def on_epoch_end(self, epoch, logs=None):\n",
        "#     gc.collect()"
      ],
      "metadata": {
        "id": "cfS9srHotm1Z"
      },
      "execution_count": 15,
      "outputs": []
    },
    {
      "cell_type": "code",
      "source": [
        "from datetime import datetime\n",
        "now_str = datetime.now().strftime(\"%Y%m%d-%H%M%S\")\n",
        "folder_path = f\"/content/drive/My Drive/Senior Design/models/{now_str}\"\n",
        "os.makedirs(folder_path, exist_ok=True)\n",
        "keras_file_path = f\"{folder_path}/hrtf_localization_model_{now_str}.keras\"\n",
        "\n",
        "class Model_Save_Callback(tf.keras.callbacks.Callback):\n",
        "  def on_epoch_end(self, epoch, logs=None):\n",
        "    model.save(keras_file_path)"
      ],
      "metadata": {
        "id": "31Zv9sGV__nT"
      },
      "execution_count": 16,
      "outputs": []
    },
    {
      "cell_type": "code",
      "source": [
        "meta_string=f\"\"\"{num_clips} Audio Clips, sample_rate={sample_rate}, spectrogam window len = {window_L}\n",
        "{num_spec_per_example} spectrograms per music clip ({sample_per_slice} each @ {sample_rate/1000}khz)\n",
        "Training set = {int(0.8*num_training_examples)} examples (synthesized data)\n",
        "Validation set = {int(0.2*num_training_examples)}examples (synthesized data)\n",
        "Batch size = {batch_size}, learning rate = {learning_rate}\n",
        "dropout rate = {dropout}\\n planned epochs = {epochs}\"\"\"\n",
        "\n",
        "with open(f\"{folder_path}/metadata{now_str}.txt\", 'w') as file:\n",
        "    file.write(meta_string)"
      ],
      "metadata": {
        "id": "r2CoxAfLChhw"
      },
      "execution_count": 17,
      "outputs": []
    },
    {
      "cell_type": "code",
      "source": [
        "from keras.callbacks import CSVLogger\n",
        "csv_logger = CSVLogger(f\"{folder_path}/training_history.csv\")\n",
        "# log_dir = f\"{folder_path}/logs\"\n",
        "# tensorboard_callback = tf.keras.callbacks.TensorBoard(log_dir=log_dir, histogram_freq=1)"
      ],
      "metadata": {
        "id": "FjdjkRP2HvDT"
      },
      "execution_count": 18,
      "outputs": []
    },
    {
      "cell_type": "code",
      "source": [
        "t0=time.time()\n",
        "\n",
        "history = model.fit(\n",
        "    train_dataset,\n",
        "    epochs=epochs,\n",
        "    validation_data=validation_dataset,\n",
        "    callbacks=[Model_Save_Callback(), csv_logger]\n",
        ")\n",
        "total_time = time.time()-t0\n",
        "total_time_str = f\"Total training time:  {datetime.fromtimestamp(total_time).strftime(\"%H:%M:%S\")}\"\n",
        "print(total_time_str)"
      ],
      "metadata": {
        "id": "dnhhjREtOsIC",
        "colab": {
          "base_uri": "https://localhost:8080/"
        },
        "outputId": "314a7596-c313-4eb7-b35f-3f4c9c7eed8d"
      },
      "execution_count": null,
      "outputs": [
        {
          "output_type": "stream",
          "name": "stdout",
          "text": [
            "Epoch 1/50\n",
            "      6/Unknown - 22s 183ms/step - loss: 403.1756 - mae: 14.2728"
          ]
        },
        {
          "output_type": "stream",
          "name": "stderr",
          "text": [
            "WARNING:tensorflow:Callback method `on_train_batch_end` is slow compared to the batch time (batch time: 0.0626s vs `on_train_batch_end` time: 0.1000s). Check your callbacks.\n"
          ]
        },
        {
          "output_type": "stream",
          "name": "stdout",
          "text": [
            "469/469 [==============================] - 141s 255ms/step - loss: 42.6600 - mae: 4.5476 - val_loss: 51.8068 - val_mae: 6.0510\n",
            "Epoch 2/50\n",
            "469/469 [==============================] - 121s 244ms/step - loss: 48.3202 - mae: 4.8041 - val_loss: 56.7877 - val_mae: 6.1110\n",
            "Epoch 3/50\n",
            "469/469 [==============================] - 120s 244ms/step - loss: 45.8022 - mae: 4.6039 - val_loss: 34.1379 - val_mae: 4.5406\n",
            "Epoch 4/50\n",
            "469/469 [==============================] - 119s 242ms/step - loss: 46.5665 - mae: 4.5462 - val_loss: 42.0950 - val_mae: 5.1577\n",
            "Epoch 5/50\n",
            " 33/469 [=>............................] - ETA: 1:19 - loss: 280.8752 - mae: 9.3562"
          ]
        }
      ]
    },
    {
      "cell_type": "code",
      "source": [
        "with open(f\"{folder_path}/metadata{now_str}.txt\", 'a') as file:\n",
        "    file.write(\"\\n\"+total_time_str)\n",
        "\n",
        "#save model manually\n",
        "# folder_path = f\"/content/drive/My Drive/Senior Design/models/{now_str}\"\n",
        "# os.makedirs(folder_path, exist_ok=True)\n",
        "# file_path = f\"{folder_path}/hrtf_localization_model_{now_str}.keras\"\n",
        "# model.save(file_path)\n",
        "\n",
        "#load model manually\n",
        "# from keras.models import load_model\n",
        "# model = load_model(keras_file_path)\n"
      ],
      "metadata": {
        "id": "TY74754_E3zr"
      },
      "execution_count": null,
      "outputs": []
    },
    {
      "cell_type": "code",
      "source": [
        "import matplotlib.pyplot as plt\n",
        "print(history.history.keys())\n",
        "mse= history.history['loss']\n",
        "val_mse=history.history['val_loss']\n",
        "\n",
        "mae= history.history['mae']\n",
        "val_mae=history.history['val_mae']\n",
        "fig = plt.figure(figsize=(10, 8))\n",
        "ax = plt.subplot(2,1,1)\n",
        "\n",
        "\n",
        "plt.title(meta_string)\n",
        "\n",
        "plt.plot(mse[:],label=\"training\")\n",
        "plt.plot(val_mse,label=\"validation\")\n",
        "plt.ylabel(\"MSE\")\n",
        "plt.legend()\n",
        "ax.set_yscale('log')\n",
        "plt.xlabel(\"Epoch\")\n",
        "plt.grid(True)\n",
        "# plt.ylim((0,1000))\n",
        "\n",
        "\n",
        "ax=plt.subplot(2,1,2)\n",
        "# plt.plot([0,10],[1/407,1/407], label=\"random\")\n",
        "plt.plot(mae[:],label=\"training\")\n",
        "plt.plot(val_mae,label=\"validation\")\n",
        "plt.xlabel(\"Epoch\")\n",
        "plt.ylabel(\"MAE\")\n",
        "plt.tight_layout()\n",
        "plt.legend()\n",
        "ax.set_yscale('log')\n",
        "plt.grid(True)\n",
        "\n",
        "fig.savefig(f\"{folder_path}/training_history.png\")\n",
        "#min mse val = 4.6734"
      ],
      "metadata": {
        "id": "lxjBmk2_H81P"
      },
      "execution_count": null,
      "outputs": []
    },
    {
      "cell_type": "code",
      "source": [
        "#manual validation\n",
        "val_prediction = model.predict(validation_dataset, verbose=1)\n",
        "train_prediction = model.predict(train_dataset, verbose=1)"
      ],
      "metadata": {
        "id": "50QiI3_TX4wT"
      },
      "execution_count": null,
      "outputs": []
    },
    {
      "cell_type": "code",
      "source": [
        "val_targets = []\n",
        "for inputs, targets in validation_dataset:\n",
        "  val_targets.append(targets.numpy())\n",
        "val_targets = np.concatenate(val_targets)\n",
        "\n",
        "train_targets = []\n",
        "for inputs, targets in train_dataset:\n",
        "  train_targets.append(targets.numpy())\n",
        "train_targets = np.concatenate(train_targets)"
      ],
      "metadata": {
        "id": "NcHw-F_DbIIE"
      },
      "execution_count": null,
      "outputs": []
    },
    {
      "cell_type": "code",
      "source": [
        "val_err = val_targets - val_prediction\n",
        "train_err = train_targets - train_prediction\n",
        "\n",
        "\n",
        "val_target_az = val_targets[:,0]\n",
        "val_target_el = val_targets[:,1]\n",
        "val_result_az = val_prediction[:,0]\n",
        "val_result_el = val_prediction[:,1]\n",
        "\n",
        "val_err_az = val_err[:,0]\n",
        "val_err_el = val_err[:,1]\n",
        "\n",
        "train_target_az = train_targets[:,0]\n",
        "train_target_el = train_targets[:,1]\n",
        "train_result_az = train_prediction[:,0]\n",
        "train_result_el = train_prediction[:,1]\n",
        "\n",
        "train_err_az = train_err[:,0]\n",
        "train_err_el = train_err[:,1]\n",
        "\n",
        "print(f\"Val Err: {val_err}\")\n",
        "print(f\"Train Err {train_err}\")\n",
        "\n"
      ],
      "metadata": {
        "id": "8EimQHPdoB_A"
      },
      "execution_count": null,
      "outputs": []
    },
    {
      "cell_type": "code",
      "source": [
        "df = pd.DataFrame(val_target_az, val_target_el, val_result_az, val_result_el, train_target_az, train_target_el, train_result_az, train_result_el,\n",
        "        columns=['val_target_az', 'val_target_el', 'val_result_az','val_result_el', 'train_target_az','train_target_el', 'train_result_az', 'train_result_el'])\n",
        "df.to_csv(f\"{folder_path}/training_results.csv\")\n"
      ],
      "metadata": {
        "id": "KgAI52U9bJgU"
      },
      "execution_count": null,
      "outputs": []
    },
    {
      "cell_type": "code",
      "source": [
        "\n",
        "\n",
        "# Scatter plot\n",
        "fig=plt.figure(figsize=(12, 6))  # Set the figure size for better visibility\n",
        "plt.subplot(1,2,1)\n",
        "plt.scatter(val_err_az, val_err_el, label='Validation', alpha=0.5)\n",
        "plt.title(\"Azimuth and Elevation Error on Validation Set\")\n",
        "plt.xlabel(\"Azimuth (degrees)\")\n",
        "plt.ylabel(\"Elevation (degrees)\")\n",
        "\n",
        "mean_val_err_az, mean_val_err_el = np.mean(val_err_az), np.mean(val_err_el)\n",
        "plt.scatter(mean_val_err_az, mean_val_err_el, color='red', s=25, edgecolors='black', zorder=5)\n",
        "\n",
        "plt.boxplot(val_err_az, vert=False, positions=[mean_val_err_el], widths=2, manage_ticks=False)  # Horizontal boxplot for x\n",
        "plt.boxplot(val_err_el, positions=[mean_val_err_az], widths=2, manage_ticks=False)  # Vertical boxplot for y\n",
        "\n",
        "# Annotating the mean point\n",
        "plt.annotate('Mean: ({:.2f}, {:.2f})'.format(mean_val_err_az, mean_val_err_el),\n",
        "             (mean_val_err_az, mean_val_err_el),\n",
        "             textcoords=\"offset points\",\n",
        "             xytext=(0,10),\n",
        "             ha='center')\n",
        "# plt.xlim((-100,100))\n",
        "# plt.ylim((-100,100))\n",
        "plt.grid(True)\n",
        "# plt.axis('square')\n",
        "\n",
        "\n",
        "plt.subplot(1,2,2)\n",
        "plt.scatter(train_err_az, train_err_el, label='Training', alpha=0.5)\n",
        "plt.title(\"Azimuth and Elevation Error on Traing Set\")\n",
        "plt.xlabel(\"Azimuth (degrees)\")\n",
        "plt.ylabel(\"Elevation (degrees)\")\n",
        "\n",
        "mean_train_err_az, mean_train_err_el = np.mean(train_err_az), np.mean(train_err_el)\n",
        "plt.scatter(mean_train_err_az, mean_train_err_el, color='red', s=25, edgecolors='black', zorder=5)\n",
        "\n",
        "plt.boxplot(train_err_az, vert=False, positions=[mean_train_err_el], widths=2, manage_ticks=False)  # Horizontal boxplot for x\n",
        "plt.boxplot(train_err_el, positions=[mean_train_err_az], widths=2, manage_ticks=False)  # Vertical boxplot for y\n",
        "\n",
        "# Annotating the mean point\n",
        "plt.annotate('Mean: ({:.2f}, {:.2f})'.format(mean_train_err_az, mean_train_err_el),\n",
        "             (mean_train_err_az, mean_train_err_el),\n",
        "             textcoords=\"offset points\",\n",
        "             xytext=(0,10),\n",
        "             ha='center')\n",
        "# plt.xlim((-100,100))\n",
        "# plt.ylim((-100,100))\n",
        "plt.grid(True)\n",
        "# plt.axis('square')\n",
        "\n",
        "plt.tight_layout()\n",
        "plt.show()\n",
        "fig.savefig(f\"{folder_path}/azimuth_elevation_error.png\")\n"
      ],
      "metadata": {
        "id": "11XWmpbMwUp0"
      },
      "execution_count": null,
      "outputs": []
    },
    {
      "cell_type": "code",
      "source": [
        "bins=21\n",
        "print(val_target_az)\n",
        "fig=plt.figure()\n",
        "plt.hist(val_result_az,label=\"predicted\",bins=bins)\n",
        "plt.hist(val_target_az,label=\"truth\",bins=bins)\n",
        "plt.legend()\n",
        "plt.title(\"Distribution of Azimuths in Predicted and GT (Validation set)\")\n",
        "fig.savefig(f\"{folder_path}/validation_azimuth_distribution.png\")"
      ],
      "metadata": {
        "id": "u0KuHFeIzXRs"
      },
      "execution_count": null,
      "outputs": []
    },
    {
      "cell_type": "code",
      "source": [
        "fig=plt.figure()\n",
        "\n",
        "plt.hist(val_result_el,label=\"predicted\",bins=bins)\n",
        "plt.hist(val_target_el,label=\"truth\",bins=bins)\n",
        "plt.legend()\n",
        "plt.title(\"Distribution of Elevations in Predicted and GT (Validation Set)\")\n",
        "fig.savefig(f\"{folder_path}/validation_elevation_distribution.png\")"
      ],
      "metadata": {
        "id": "zaWFwtJ9z99i"
      },
      "execution_count": null,
      "outputs": []
    },
    {
      "cell_type": "code",
      "source": [
        "fig=plt.figure()\n",
        "plt.hist(train_result_az,label=\"predicted\",bins=bins)\n",
        "plt.hist(train_target_az,label=\"truth\",bins=bins)\n",
        "plt.legend()\n",
        "plt.title(\"Distribution of Azimuths in Predicted and GT (Training Set)\")\n",
        "fig.savefig(f\"{folder_path}/training_azimuth_distribution.png\")"
      ],
      "metadata": {
        "id": "_fWS50mr8MWq"
      },
      "execution_count": null,
      "outputs": []
    },
    {
      "cell_type": "code",
      "source": [
        "fig=plt.figure()\n",
        "plt.hist(train_result_el,label=\"predicted\",bins=bins)\n",
        "plt.hist(train_target_el,label=\"truth\",bins=bins)\n",
        "plt.legend()\n",
        "plt.title(\"Distribution of Elevations in Predicted and GT (Training Set)\")\n",
        "fig.savefig(f\"{folder_path}/training_elevation_distribution.png\")"
      ],
      "metadata": {
        "id": "s15g7RpG8MJO"
      },
      "execution_count": null,
      "outputs": []
    },
    {
      "cell_type": "code",
      "source": [
        "#azimuth val\n",
        "fig=plt.figure()\n",
        "plt.scatter(val_target_az,val_result_az,label=\"az\")\n",
        "plt.plot([-90,90],[-90,90],'k')\n",
        "plt.xlabel(\"True Azimuth\")\n",
        "plt.ylabel(\"Predicted Azimuth\")\n",
        "plt.axis('square')\n",
        "plt.ylim((-90,90))\n",
        "plt.xlim((-90,90))\n",
        "plt.title(\"Azimuth accuracy for Validation Set\")\n",
        "plt.grid(True)\n",
        "fig.savefig(f\"{folder_path}/val_azimuth_diagonal.png\")"
      ],
      "metadata": {
        "id": "wopCb-dl9a3g"
      },
      "execution_count": null,
      "outputs": []
    },
    {
      "cell_type": "code",
      "source": [
        "#elevation\n",
        "fig=plt.figure()\n",
        "plt.scatter(val_target_el,val_result_el,label=\"el\")\n",
        "plt.plot([-90,90],[-90,90],'k')\n",
        "plt.xlabel(\"True Elevation\")\n",
        "plt.ylabel(\"Predicted Elevation\")\n",
        "plt.axis('square')\n",
        "plt.ylim((-90,90))\n",
        "plt.xlim((-90,90))\n",
        "plt.title(\"Elevation Accuracy for Validation set\")\n",
        "plt.grid(True)\n",
        "fig.savefig(f\"{folder_path}/val_elevation_diagonal.png\")"
      ],
      "metadata": {
        "id": "5SX3Vosd9Zi6"
      },
      "execution_count": null,
      "outputs": []
    },
    {
      "cell_type": "code",
      "source": [
        "#azimuth train\n",
        "fig=plt.figure()\n",
        "plt.scatter(train_target_az,train_result_az,label=\"az\")\n",
        "plt.plot([-90,90],[-90,90],'k')\n",
        "plt.xlabel(\"True Azimuth\")\n",
        "plt.ylabel(\"Predicted Azimuth\")\n",
        "plt.axis('square')\n",
        "plt.ylim((-90,90))\n",
        "plt.xlim((-90,90))\n",
        "plt.title(\"Azimuth accuracy for Training Set\")\n",
        "plt.grid(True)\n",
        "fig.savefig(f\"{folder_path}/training_azimuth_diagonal.png\")"
      ],
      "metadata": {
        "id": "VBVQmRfZ9aZy"
      },
      "execution_count": null,
      "outputs": []
    },
    {
      "cell_type": "code",
      "source": [
        "#elevation train\n",
        "fig=plt.figure()\n",
        "plt.scatter(train_target_el,train_result_el,label=\"el\")\n",
        "plt.plot([-90,90],[-90,90],'k')\n",
        "plt.xlabel(\"True Elevation\")\n",
        "plt.ylabel(\"Predicted Elevation\")\n",
        "plt.axis('square')\n",
        "plt.ylim((-90,90))\n",
        "plt.xlim((-90,90))\n",
        "plt.title(\"Elevation Accuracy for Training set\")\n",
        "plt.grid(True)\n",
        "fig.savefig(f\"{folder_path}/training_elevation_diagonal.png\")"
      ],
      "metadata": {
        "id": "D0-GhHp_9aZ6"
      },
      "execution_count": null,
      "outputs": []
    },
    {
      "cell_type": "code",
      "source": [
        "# df1 = pd.read_pickle(\"/content/drive/My Drive/Senior Design/raw_data/combined/raw_recordings1.pkl\")\n",
        "# df2 = pd.read_pickle(\"/content/drive/My Drive/Senior Design/raw_data/combined/raw_recordings2.pkl\")\n",
        "# df3 = pd.read_pickle(\"/content/drive/My Drive/Senior Design/raw_data/combined/raw_recordings3.pkl\")\n",
        "# df = [df1,df2,df3]\n",
        "# df = pd.concat(df)\n",
        "# df.to_pickle(\"/content/drive/My Drive/Senior Design/raw_data/combined/raw_recordings_all.pkl\")\n",
        "# del df1,df2,df3\n",
        "# df = pd.read_pickle(\"/content/drive/My Drive/Senior Design/raw_data/combined/raw_recordings_all.pkl\")"
      ],
      "metadata": {
        "id": "f_8y4OM4EJ70"
      },
      "execution_count": null,
      "outputs": []
    },
    {
      "cell_type": "code",
      "source": [
        "# targets = tf.convert_to_tensor(df['az','el'])\n",
        "# targets = d/f.pop(columns=['az','el'])\n",
        "\n",
        "# df_hrtf['HRTF_L'], df_hrtf['HRTF_R'] = zip(*df_hrtf.apply(lambda row: compute_LRspectrograms(row['L'], row['R'], fs=row['sample_rate'], window_L=window_L), axis=1))\n",
        "#"
      ],
      "metadata": {
        "id": "rh0M5bi_Up9O"
      },
      "execution_count": null,
      "outputs": []
    }
  ]
}